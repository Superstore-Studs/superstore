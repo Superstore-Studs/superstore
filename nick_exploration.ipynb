{
 "cells": [
  {
   "cell_type": "code",
   "execution_count": 1,
   "id": "5ac40a4c-9103-485e-ab57-9f0e4209ca9e",
   "metadata": {},
   "outputs": [],
   "source": [
    "from env import host, username, password\n",
    "import os\n",
    "import pandas as pd \n",
    "import numpy as np\n",
    "import matplotlib.pyplot as plt\n",
    "import seaborn as sns\n",
    "from collections import Counter\n",
    "from sklearn.model_selection import train_test_split\n",
    "from datetime import date\n",
    "import nick_wrangle as get"
   ]
  },
  {
   "cell_type": "code",
   "execution_count": 2,
   "id": "54610355-f92c-464f-ad8e-dc9eb0595311",
   "metadata": {},
   "outputs": [
    {
     "name": "stdout",
     "output_type": "stream",
     "text": [
      "Using cached CSV\n",
      "Using cached CSV\n"
     ]
    },
    {
     "name": "stderr",
     "output_type": "stream",
     "text": [
      "/Users/nicholasdougherty/codeup-data-science/superstore/nick_wrangle.py:16: FutureWarning: Indexing a DataFrame with a datetimelike index using a single string to slice the rows, like `frame[string]`, is deprecated and will be removed in a future version. Use `frame.loc[string]` instead.\n",
      "  test = df['2017']\n"
     ]
    }
   ],
   "source": [
    "train, test = get.wrangle_superstore()"
   ]
  },
  {
   "cell_type": "code",
   "execution_count": 3,
   "id": "6cbd4473-e07e-4672-b603-df8c574ee948",
   "metadata": {},
   "outputs": [
    {
     "data": {
      "text/plain": [
       "(1238, 23)"
      ]
     },
     "execution_count": 3,
     "metadata": {},
     "output_type": "execute_result"
    }
   ],
   "source": [
    "train.shape"
   ]
  },
  {
   "cell_type": "code",
   "execution_count": 4,
   "id": "f46b94b5-eb8c-4ade-8a95-e81ef2a4764d",
   "metadata": {},
   "outputs": [
    {
     "data": {
      "text/plain": [
       "(496, 23)"
      ]
     },
     "execution_count": 4,
     "metadata": {},
     "output_type": "execute_result"
    }
   ],
   "source": [
    "test.shape"
   ]
  },
  {
   "cell_type": "code",
   "execution_count": 8,
   "id": "24d0e449-2e60-466c-b5e3-a6f4533e466a",
   "metadata": {},
   "outputs": [
    {
     "data": {
      "text/plain": [
       "True"
      ]
     },
     "execution_count": 8,
     "metadata": {},
     "output_type": "execute_result"
    }
   ],
   "source": [
    "train.index.is_unique\n",
    "test.index.is_unique\n",
    "# CLASS IS IN SESSION"
   ]
  },
  {
   "cell_type": "code",
   "execution_count": null,
   "id": "567a208c-51c2-4db9-853a-bceaa75d6216",
   "metadata": {},
   "outputs": [],
   "source": []
  }
 ],
 "metadata": {
  "kernelspec": {
   "display_name": "Python 3 (ipykernel)",
   "language": "python",
   "name": "python3"
  },
  "language_info": {
   "codemirror_mode": {
    "name": "ipython",
    "version": 3
   },
   "file_extension": ".py",
   "mimetype": "text/x-python",
   "name": "python",
   "nbconvert_exporter": "python",
   "pygments_lexer": "ipython3",
   "version": "3.9.7"
  }
 },
 "nbformat": 4,
 "nbformat_minor": 5
}
